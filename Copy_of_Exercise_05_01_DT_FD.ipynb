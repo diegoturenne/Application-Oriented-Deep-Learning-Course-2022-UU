{
  "cells": [
    {
      "cell_type": "markdown",
      "metadata": {
        "id": "view-in-github",
        "colab_type": "text"
      },
      "source": [
        "<a href=\"https://colab.research.google.com/github/diegoturenne/Application-Oriented-Deep-Learning-Course-2022-UU/blob/main/Copy_of_Exercise_05_01_DT_FD.ipynb\" target=\"_parent\"><img src=\"https://colab.research.google.com/assets/colab-badge.svg\" alt=\"Open In Colab\"/></a>"
      ]
    },
    {
      "cell_type": "markdown",
      "metadata": {
        "id": "rF2trPuyzm9C"
      },
      "source": [
        "# Exercise 5.1\n"
      ]
    },
    {
      "cell_type": "code",
      "execution_count": null,
      "metadata": {
        "id": "uK90XJ2abewa",
        "outputId": "c2b6f2f2-df5f-41a2-c5d0-8666bb1b085a"
      },
      "outputs": [
        {
          "data": {
            "text/html": [
              "\n",
              "<style>\n",
              "    div#notebook-container    { width: 95%; }\n",
              "    div#menubar-container     { width: 65%; }\n",
              "    div#maintoolbar-container { width: 99%; }\n",
              "</style>\n"
            ],
            "text/plain": [
              "<IPython.core.display.HTML object>"
            ]
          },
          "metadata": {},
          "output_type": "display_data"
        }
      ],
      "source": [
        "from IPython.core.display import display, HTML\n",
        "display(HTML(data=\"\"\"\n",
        "<style>\n",
        "    div#notebook-container    { width: 95%; }\n",
        "    div#menubar-container     { width: 65%; }\n",
        "    div#maintoolbar-container { width: 99%; }\n",
        "</style>\n",
        "\"\"\"))\n",
        "\n",
        "#width for some images\n",
        "im_width = 11"
      ]
    },
    {
      "cell_type": "code",
      "execution_count": null,
      "metadata": {
        "id": "ipcsUFDUzm9C"
      },
      "outputs": [],
      "source": [
        "import numpy as np\n",
        "import matplotlib.pyplot as plt"
      ]
    },
    {
      "cell_type": "markdown",
      "metadata": {
        "id": "MCJe_ITJzm9G"
      },
      "source": [
        "**Simple Network**\n",
        "\n",
        "We continue with the dataset first encountered in the previous exercise. Please refer to the discussion there for an introduction to the data and the learning objective.\n",
        "\n",
        "Here, we manually implement a simple network architecture"
      ]
    },
    {
      "cell_type": "code",
      "execution_count": null,
      "metadata": {
        "colab": {
          "base_uri": "https://localhost:8080/"
        },
        "id": "NopU99AT9G7s",
        "outputId": "d7e8848e-b9c0-4eb4-8f18-5acda9d8c343"
      },
      "outputs": [
        {
          "name": "stdout",
          "output_type": "stream",
          "text": [
            "  % Total    % Received % Xferd  Average Speed   Time    Time     Time  Current\n",
            "                                 Dload  Upload   Total   Spent    Left  Speed\n",
            "100  258k  100  258k    0     0   189k      0  0:00:01  0:00:01 --:--:--  189k\n"
          ]
        }
      ],
      "source": [
        "# The code snippet below is responsible for downloading the dataset\n",
        "# - for example when running via Google Colab.\n",
        "#\n",
        "# You can also directly download the file using the link if you work\n",
        "# with a local setup (in that case, ignore the !wget)\n",
        "\n",
        "# !wget https://archive.ics.uci.edu/ml/machine-learning-databases/wine-quality/winequality-white.csv\n",
        "!curl -O https://archive.ics.uci.edu/ml/machine-learning-databases/wine-quality/winequality-white.csv\n",
        "    \n"
      ]
    },
    {
      "cell_type": "code",
      "execution_count": null,
      "metadata": {
        "colab": {
          "base_uri": "https://localhost:8080/"
        },
        "id": "5ONqeI5Uzm9H",
        "outputId": "d31ba8d4-cf0a-4f25-8a93-9091c0dd041a"
      },
      "outputs": [
        {
          "name": "stdout",
          "output_type": "stream",
          "text": [
            "data: (4898, 12)\n",
            "First example:\n",
            "Features: [7.600e+00 2.400e-01 4.400e-01 3.800e+00 3.700e-02 4.900e+01 1.460e+02\n",
            " 9.911e-01 3.060e+00 3.700e-01 1.160e+01]\n",
            "Quality: 6.0\n"
          ]
        }
      ],
      "source": [
        "# Before working with the data, \n",
        "# we download and prepare all features\n",
        "\n",
        "# load all examples from the file\n",
        "data = np.genfromtxt('winequality-white.csv',delimiter=\";\",skip_header=1)\n",
        "\n",
        "print(\"data:\", data.shape)\n",
        "\n",
        "# Prepare for proper training\n",
        "np.random.shuffle(data) # randomly sort examples\n",
        "\n",
        "# take the first 3000 examples for training\n",
        "# (remember array slicing from last week)\n",
        "X_train = data[:3000,:11] # all features except last column\n",
        "y_train = data[:3000,11]  # quality column\n",
        "\n",
        "# and the remaining examples for testing\n",
        "X_test = data[3000:,:11] # all features except last column\n",
        "y_test = data[3000:,11] # quality column\n",
        "\n",
        "print(\"First example:\")\n",
        "print(\"Features:\", X_train[0])\n",
        "print(\"Quality:\", y_train[0])"
      ]
    },
    {
      "cell_type": "markdown",
      "metadata": {
        "id": "jiwnyNHpzm9L"
      },
      "source": [
        "# Problems\n",
        "\n",
        "The goal is to implement the training of a neural network with one input layer, one hidden layer, and one output layer using gradient descent. We first (below) define the matrices and initialise with random values. We need W, b, W' and b'. The shapes will be:\n",
        "  * W: (number of hidden nodes, number of inputs) named `W`\n",
        "  * b: (number of hidden nodes) named `b`\n",
        "  * W': (number of hidden nodes) named `Wp`\n",
        "  * b': (one) named `bp`\n",
        "\n",
        "Your tasks are:     \n",
        "   * Implement a forward pass of the network as `dnn` (see below)\n",
        "   * Implement a function that uses one data point to update the weights using gradient descent. You can follow the `update_weights` skeleton below\n",
        "   * Now you can use the code below (training loop and evaluation) to train the network for multiple data points and even over several epochs. Try to find a set of hyperparameters (number of nodes in the hidden layer, learning rate, number of training epochs) that gives stable results. What is the best result (as measured by the loss on the training sample) you can get?"
      ]
    },
    {
      "cell_type": "code",
      "execution_count": null,
      "metadata": {
        "id": "gRzvovJvkQB1",
        "outputId": "d3b82658-d45c-4a84-a79f-eee8a6db2bce"
      },
      "outputs": [
        {
          "name": "stdout",
          "output_type": "stream",
          "text": [
            "(50, 11)\n"
          ]
        }
      ],
      "source": [
        "# Initialise weights with suitable random distributions\n",
        "hidden_nodes = 50 # number of nodes in the hidden layer\n",
        "n_inputs = 11 # input features in the dataset\n",
        "\n",
        "W = np.random.randn(hidden_nodes,11)*np.sqrt(2./n_inputs)\n",
        "b = np.random.randn(hidden_nodes)*np.sqrt(2./n_inputs)\n",
        "Wp = np.random.randn(hidden_nodes)*np.sqrt(2./hidden_nodes)\n",
        "bp = np.random.randn((1))\n",
        "\n",
        "print(W.shape)"
      ]
    },
    {
      "cell_type": "code",
      "execution_count": null,
      "metadata": {
        "id": "ZI4TGelKkQB2"
      },
      "outputs": [],
      "source": [
        "# You can use this implementation of the ReLu activation function\n",
        "def relu(x):\n",
        "    return np.maximum(x, 0)"
      ]
    },
    {
      "cell_type": "code",
      "execution_count": null,
      "metadata": {
        "id": "qzR88W_okQB2"
      },
      "outputs": [],
      "source": [
        "def dnn(x,W,b,Wp,bp):\n",
        "    # TODO Calculate and return network output of forward pass\n",
        "    # See Hint 1 for additional information\n",
        "    z1 = np.matmul(W,x) + b # weight the inputs\n",
        "    z2 = relu(z1) # non linear activation: now going away from hidden node and into ouput \n",
        "    z3 = np.matmul(Wp, z2) + bp # out from all hidden nodes into single quality\n",
        "    \n",
        "    return z3 # output: single quality number "
      ]
    },
    {
      "cell_type": "code",
      "execution_count": null,
      "metadata": {
        "id": "ZAMGFQH1bewk"
      },
      "outputs": [],
      "source": [
        "# # test cell for forward dnn \n",
        "# x_test_dt = X_train[100]\n",
        "# y_test_dt = y_train[100]\n",
        "\n",
        "# y_prop_test_dy = dnn(x_test_dt,W,b,Wp,bp)\n",
        "\n",
        "# y_prop_test_dy"
      ]
    },
    {
      "cell_type": "code",
      "execution_count": null,
      "metadata": {
        "id": "rFp4e-RhkQB3"
      },
      "outputs": [],
      "source": [
        "def update_weights(x,y, W, b, Wp, bp):\n",
        "    \n",
        "    learning_rate = 1e-5 # it's a real dick move to suggest the wrong learning rate by default.\n",
        "    # if you wanted us to choose, just say it or don't input anything.\n",
        "    \n",
        "    # TODO: Calculate the network output (use the function dnn defined above)\n",
        "    y_out = dnn(x,W, b, Wp, bp) \n",
        "    # TODO: Derive the gradient for each of W,b,Wp,bp by taking the partial\n",
        "    # derivative of the loss function with respect to the variable and\n",
        "\n",
        "    # I ended up needing to implement an ugly loop instead to some vector calculation to check the values .... \n",
        "    # As just a direct implementation of the formulas (thus the commented loops)\n",
        "    \n",
        "    sum_tmp = np.dot(W,x) + b  #calculation that is used often for the  derivatives\n",
        "\n",
        "    dL_dbp = 2*(y_out - y)  \n",
        "    \n",
        "    dL_db = dL_dbp *  Wp* np.heaviside(sum_tmp, 0.5) \n",
        "#     dL_db = np.zeros_like(b)\n",
        "#     for k in np.arange(len(b)):\n",
        "#         s = 0 \n",
        "#         for i in np.arange(len(x)):\n",
        "#             s += W[k,i]*x[i]\n",
        "#         s2 = s + b[k]\n",
        "#         dL_db[k] = dL_dbp*Wp[k]*np.heaviside(s2, 0.5)\n",
        "        \n",
        "\n",
        "    dL_dWp = dL_dbp * relu(sum_tmp)\n",
        "#     dL_dWp = np.zeros_like(Wp)\n",
        "#     for k in np.arange(len(Wp)):\n",
        "#         s = 0 \n",
        "#         for i in np.arange(len(x)):\n",
        "#             s += W[k,i]*x[i]\n",
        "#         s2 = s + b[k]\n",
        "#         dL_dWp[k] = dL_dbp*relu(s2)\n",
        "  \n",
        "    \n",
        "    dL_dW = dL_dbp* np.outer(Wp * np.heaviside(sum_tmp, 0.5) , x)      \n",
        "#     dL_dW = np.zeros_like(W)\n",
        "#     for m in np.arange(W.shape[0]):\n",
        "#         for k in np.arange(W.shape[1]):\n",
        "#             s=0\n",
        "#             for i in np.arange(len(x)):\n",
        "#                 s += W[m,i]*x[i]\n",
        "#             s2 = s + b[m]\n",
        "#             dL_dW[m,k] = dL_dbp*Wp[m]*np.heaviside(s2, 0.5)*x[k]\n",
        "            \n",
        "\n",
        "    # TODO: Update the weights/bias following the rule:  weight_new = weight_old - learning_rate * gradient    \n",
        "    bp_new = bp - learning_rate*dL_dbp\n",
        "    b_new = b - learning_rate*dL_db\n",
        "    Wp_new = Wp - learning_rate*dL_dWp\n",
        "    W_new = W - learning_rate*dL_dW\n",
        "    #.... at least it has the right shapes... \n",
        "    \n",
        "#     return dL_db\n",
        "    return W_new, b_new, Wp_new, bp_new # return the new weights\n"
      ]
    },
    {
      "cell_type": "markdown",
      "metadata": {
        "id": "guL8sB2ikQB3"
      },
      "source": [
        "# Training loop and evaluation below"
      ]
    },
    {
      "cell_type": "code",
      "execution_count": null,
      "metadata": {
        "id": "uSr8cC6-kQB4",
        "scrolled": false,
        "outputId": "8cc72b95-ee1f-4bc1-a33a-c59e60f88116"
      },
      "outputs": [
        {
          "name": "stdout",
          "output_type": "stream",
          "text": [
            "Epoch: 0 Train Loss: 0.7993169364945579 Test Loss: 0.7798091883825501\n",
            "Epoch: 1 Train Loss: 0.780319875713755 Test Loss: 0.7639703616218164\n",
            "Epoch: 2 Train Loss: 0.7632282969190204 Test Loss: 0.7493125451226721\n",
            "Epoch: 3 Train Loss: 0.747741896816861 Test Loss: 0.7395026372453749\n",
            "Epoch: 4 Train Loss: 0.7384594740854185 Test Loss: 0.7322581458880436\n",
            "Epoch: 5 Train Loss: 0.734128780424642 Test Loss: 0.727539045362166\n",
            "Epoch: 6 Train Loss: 0.7319836518098473 Test Loss: 0.7263702511469026\n",
            "Epoch: 7 Train Loss: 0.7112011759763813 Test Loss: 0.7162702596404792\n",
            "Epoch: 8 Train Loss: 0.7015789965846678 Test Loss: 0.7080777199128364\n",
            "Epoch: 9 Train Loss: 0.6938591177404999 Test Loss: 0.6998914491590358\n",
            "Epoch: 10 Train Loss: 0.6895113069056811 Test Loss: 0.6950723426642893\n",
            "Epoch: 11 Train Loss: 0.6853510504796014 Test Loss: 0.6910516878948043\n",
            "Epoch: 12 Train Loss: 0.6827070654081017 Test Loss: 0.6882521232880313\n",
            "Epoch: 13 Train Loss: 0.6798426996954452 Test Loss: 0.6849535993671222\n",
            "Epoch: 14 Train Loss: 0.6771170104553714 Test Loss: 0.6818260914270499\n",
            "Epoch: 15 Train Loss: 0.6750300794998632 Test Loss: 0.6792989193902681\n",
            "Epoch: 16 Train Loss: 0.6730165049183722 Test Loss: 0.6768929951094864\n",
            "Epoch: 17 Train Loss: 0.6709117566647779 Test Loss: 0.674430625470166\n",
            "Epoch: 18 Train Loss: 0.6685378293316814 Test Loss: 0.671357241629466\n",
            "Epoch: 19 Train Loss: 0.6655955793181636 Test Loss: 0.6678348790839764\n",
            "Epoch: 20 Train Loss: 0.6642355805690956 Test Loss: 0.6656564080221048\n",
            "Epoch: 21 Train Loss: 0.6623619213806048 Test Loss: 0.6636681430196818\n",
            "Epoch: 22 Train Loss: 0.6614031185619239 Test Loss: 0.6624676931050877\n",
            "Epoch: 23 Train Loss: 0.6600607659237769 Test Loss: 0.661046408447477\n",
            "Epoch: 24 Train Loss: 0.6597129077928403 Test Loss: 0.6602896543160817\n",
            "Epoch: 25 Train Loss: 0.6576583007369787 Test Loss: 0.6584524596057065\n",
            "Epoch: 26 Train Loss: 0.6562617063329357 Test Loss: 0.6574733050985145\n",
            "Epoch: 27 Train Loss: 0.6555055310675905 Test Loss: 0.656623845041276\n",
            "Epoch: 28 Train Loss: 0.6539513703661627 Test Loss: 0.6556516191501592\n",
            "Epoch: 29 Train Loss: 0.6526863505711135 Test Loss: 0.6545850997154568\n",
            "Epoch: 30 Train Loss: 0.6521050618816224 Test Loss: 0.653917879784576\n",
            "Epoch: 31 Train Loss: 0.6506866537519531 Test Loss: 0.6527385727607445\n",
            "Epoch: 32 Train Loss: 0.6495961319911728 Test Loss: 0.6517711608999599\n",
            "Epoch: 33 Train Loss: 0.6491479473180513 Test Loss: 0.6513321127189692\n",
            "Epoch: 34 Train Loss: 0.6479824953814675 Test Loss: 0.6505833551183168\n",
            "Epoch: 35 Train Loss: 0.6469112191338475 Test Loss: 0.6497078061358607\n",
            "Epoch: 36 Train Loss: 0.6466664686262118 Test Loss: 0.6494004045338501\n",
            "Epoch: 37 Train Loss: 0.6458886578582766 Test Loss: 0.6490505865613277\n",
            "Epoch: 38 Train Loss: 0.6450980549437604 Test Loss: 0.6485643382152676\n",
            "Epoch: 39 Train Loss: 0.6443101950480589 Test Loss: 0.64807031390868\n",
            "Epoch: 40 Train Loss: 0.6440900055787626 Test Loss: 0.6478069977524328\n",
            "Epoch: 41 Train Loss: 0.6430020591530816 Test Loss: 0.646987817322952\n",
            "Epoch: 42 Train Loss: 0.641755059647259 Test Loss: 0.6460974812529636\n",
            "Epoch: 43 Train Loss: 0.6411134667073416 Test Loss: 0.6454331831416674\n",
            "Epoch: 44 Train Loss: 0.6403363863050994 Test Loss: 0.644635594965777\n",
            "Epoch: 45 Train Loss: 0.6394045968020332 Test Loss: 0.6440008782806752\n",
            "Epoch: 46 Train Loss: 0.6388132232760749 Test Loss: 0.6435487381539093\n",
            "Epoch: 47 Train Loss: 0.6378243157883906 Test Loss: 0.642867832572215\n",
            "Epoch: 48 Train Loss: 0.637006125312703 Test Loss: 0.6422951862802013\n",
            "Epoch: 49 Train Loss: 0.6362166461820074 Test Loss: 0.6417654270163745\n",
            "Epoch: 50 Train Loss: 0.6355014049967087 Test Loss: 0.6413167277654963\n",
            "Epoch: 51 Train Loss: 0.6348159840183217 Test Loss: 0.6409538889835432\n",
            "Epoch: 52 Train Loss: 0.6341968788968146 Test Loss: 0.6406611794172566\n",
            "Epoch: 53 Train Loss: 0.6334817939080282 Test Loss: 0.6402050153134661\n",
            "Epoch: 54 Train Loss: 0.6331236111034981 Test Loss: 0.6402301734449266\n",
            "Epoch: 55 Train Loss: 0.632698434686637 Test Loss: 0.6401017772026274\n",
            "Epoch: 56 Train Loss: 0.6322777191138275 Test Loss: 0.6399840443870402\n",
            "Epoch: 57 Train Loss: 0.6317712328897221 Test Loss: 0.6397938632869908\n",
            "Epoch: 58 Train Loss: 0.6313208854939824 Test Loss: 0.6394943400564995\n",
            "Epoch: 59 Train Loss: 0.6307651445017002 Test Loss: 0.6393318676260257\n",
            "Epoch: 60 Train Loss: 0.6302577813760863 Test Loss: 0.639264825725218\n",
            "Epoch: 61 Train Loss: 0.6297210101447948 Test Loss: 0.6392463052230374\n",
            "Epoch: 62 Train Loss: 0.6291701796048745 Test Loss: 0.6391294310715482\n",
            "Epoch: 63 Train Loss: 0.6285576046600011 Test Loss: 0.6389958437632794\n",
            "Epoch: 64 Train Loss: 0.6280778006070185 Test Loss: 0.638990808841104\n",
            "Epoch: 65 Train Loss: 0.6273808772975875 Test Loss: 0.6386912151758443\n",
            "Epoch: 66 Train Loss: 0.6268709992692366 Test Loss: 0.6386182352877621\n",
            "Epoch: 67 Train Loss: 0.626211394608904 Test Loss: 0.6382737953197039\n",
            "Epoch: 68 Train Loss: 0.6255881498915168 Test Loss: 0.6379704663816121\n",
            "Epoch: 69 Train Loss: 0.6251504724905735 Test Loss: 0.6380006862155462\n",
            "Epoch: 70 Train Loss: 0.6245029092050877 Test Loss: 0.6374863081136692\n",
            "Epoch: 71 Train Loss: 0.624045682986133 Test Loss: 0.63733430103087\n",
            "Epoch: 72 Train Loss: 0.6233909197929682 Test Loss: 0.6369932827691867\n",
            "Epoch: 73 Train Loss: 0.6229373985412847 Test Loss: 0.6368128838060348\n",
            "Epoch: 74 Train Loss: 0.6223604649274899 Test Loss: 0.636428083665824\n",
            "Epoch: 75 Train Loss: 0.6219260843059741 Test Loss: 0.6362718080600039\n",
            "Epoch: 76 Train Loss: 0.6213153661589177 Test Loss: 0.6358481562717878\n",
            "Epoch: 77 Train Loss: 0.6209488429147624 Test Loss: 0.6358265189119721\n",
            "Epoch: 78 Train Loss: 0.6204928622302078 Test Loss: 0.6357961168345118\n",
            "Epoch: 79 Train Loss: 0.6200606035563812 Test Loss: 0.6356949156002123\n",
            "Epoch: 80 Train Loss: 0.6195834521523387 Test Loss: 0.6356274557600586\n",
            "Epoch: 81 Train Loss: 0.6192842903450521 Test Loss: 0.635777985371036\n",
            "Epoch: 82 Train Loss: 0.618879303720792 Test Loss: 0.6358400090500091\n",
            "Epoch: 83 Train Loss: 0.6186130515491283 Test Loss: 0.6360577498383626\n",
            "Epoch: 84 Train Loss: 0.6182479960067485 Test Loss: 0.6361931422741159\n",
            "Epoch: 85 Train Loss: 0.6180123273325788 Test Loss: 0.6363617329519865\n",
            "Epoch: 86 Train Loss: 0.617569574416152 Test Loss: 0.6363080104888602\n",
            "Epoch: 87 Train Loss: 0.6172806192793888 Test Loss: 0.6364503079458758\n",
            "Epoch: 88 Train Loss: 0.6170144720425731 Test Loss: 0.6365769864470753\n",
            "Epoch: 89 Train Loss: 0.6165982321850297 Test Loss: 0.6364771653974053\n",
            "Epoch: 90 Train Loss: 0.6163548336228379 Test Loss: 0.6366534837098464\n",
            "Epoch: 91 Train Loss: 0.6159575220102911 Test Loss: 0.6366865372337146\n",
            "Epoch: 92 Train Loss: 0.6159165451569473 Test Loss: 0.6370493574119818\n",
            "Epoch: 93 Train Loss: 0.6154581163175851 Test Loss: 0.6369726155702545\n",
            "Epoch: 94 Train Loss: 0.6151912172250906 Test Loss: 0.6371182857178677\n",
            "Epoch: 95 Train Loss: 0.6147414759363079 Test Loss: 0.6372432286182186\n",
            "Epoch: 96 Train Loss: 0.6146025753696512 Test Loss: 0.6374663929377401\n",
            "Epoch: 97 Train Loss: 0.6142394843222243 Test Loss: 0.6374452420154237\n",
            "Epoch: 98 Train Loss: 0.6138677105796246 Test Loss: 0.6379173042353373\n",
            "Epoch: 99 Train Loss: 0.6140384222145329 Test Loss: 0.6386921092099936\n",
            "Epoch: 100 Train Loss: 0.6137299042154275 Test Loss: 0.6392802319627037\n",
            "Epoch: 101 Train Loss: 0.6133559302064738 Test Loss: 0.6396224457303701\n",
            "Epoch: 102 Train Loss: 0.6130274010685793 Test Loss: 0.6399813544952638\n",
            "Epoch: 103 Train Loss: 0.6128363402606927 Test Loss: 0.6405253026372025\n",
            "Epoch: 104 Train Loss: 0.6124629510931379 Test Loss: 0.6408096025006353\n",
            "Epoch: 105 Train Loss: 0.6122812176053071 Test Loss: 0.6409103328067275\n",
            "Epoch: 106 Train Loss: 0.6120716327187531 Test Loss: 0.6410104386111458\n",
            "Epoch: 107 Train Loss: 0.611802646925903 Test Loss: 0.641060820456132\n",
            "Epoch: 108 Train Loss: 0.6116475463423554 Test Loss: 0.6410061365520208\n",
            "Epoch: 109 Train Loss: 0.6115322593099696 Test Loss: 0.6412491650913696\n",
            "Epoch: 110 Train Loss: 0.6110985601836704 Test Loss: 0.6411658412475255\n",
            "Epoch: 111 Train Loss: 0.6108240845803038 Test Loss: 0.6410695241719031\n",
            "Epoch: 112 Train Loss: 0.6104562919403347 Test Loss: 0.6410231455120831\n",
            "Epoch: 113 Train Loss: 0.6101322361349264 Test Loss: 0.6410065728653533\n",
            "Epoch: 114 Train Loss: 0.6100575212026983 Test Loss: 0.6413306365768571\n",
            "Epoch: 115 Train Loss: 0.6095833967500088 Test Loss: 0.6412382835689526\n"
          ]
        },
        {
          "name": "stdout",
          "output_type": "stream",
          "text": [
            "Epoch: 116 Train Loss: 0.6095424355055856 Test Loss: 0.6414278685855634\n",
            "Epoch: 117 Train Loss: 0.6091372286744696 Test Loss: 0.6414940796171494\n",
            "Epoch: 118 Train Loss: 0.6088915481374608 Test Loss: 0.6417155398098688\n",
            "Epoch: 119 Train Loss: 0.6083800358984923 Test Loss: 0.6415299568238407\n",
            "Epoch: 120 Train Loss: 0.6081448264021495 Test Loss: 0.6417258438403206\n",
            "Epoch: 121 Train Loss: 0.6079787789236742 Test Loss: 0.6419126082368042\n",
            "Epoch: 122 Train Loss: 0.6078808925348598 Test Loss: 0.6420713277415657\n",
            "Epoch: 123 Train Loss: 0.6075076618033802 Test Loss: 0.6421534997882927\n",
            "Epoch: 124 Train Loss: 0.6072224668959043 Test Loss: 0.6421951522891586\n",
            "Epoch: 125 Train Loss: 0.606825467078241 Test Loss: 0.6420838672033784\n",
            "Epoch: 126 Train Loss: 0.606406143357311 Test Loss: 0.6420278034866311\n",
            "Epoch: 127 Train Loss: 0.6066240265631745 Test Loss: 0.6423902401855643\n",
            "Epoch: 128 Train Loss: 0.6059730268414703 Test Loss: 0.6420683600182708\n",
            "Epoch: 129 Train Loss: 0.6059373071068852 Test Loss: 0.6421886994946298\n",
            "Epoch: 130 Train Loss: 0.6054462593847537 Test Loss: 0.6417475482261812\n",
            "Epoch: 131 Train Loss: 0.6053259611106248 Test Loss: 0.6417805760867377\n",
            "Epoch: 132 Train Loss: 0.6049900929184376 Test Loss: 0.6417740151087337\n",
            "Epoch: 133 Train Loss: 0.6045557987502846 Test Loss: 0.6416731634860837\n",
            "Epoch: 134 Train Loss: 0.6041936975003368 Test Loss: 0.6415356248134257\n",
            "Epoch: 135 Train Loss: 0.6040516354374824 Test Loss: 0.6414019273905397\n",
            "Epoch: 136 Train Loss: 0.6035314682924098 Test Loss: 0.6411563002572994\n",
            "Epoch: 137 Train Loss: 0.6031175381304588 Test Loss: 0.6409624114031591\n",
            "Epoch: 138 Train Loss: 0.6026446325655921 Test Loss: 0.640622564198091\n",
            "Epoch: 139 Train Loss: 0.6027388122314367 Test Loss: 0.6408178500731216\n",
            "Epoch: 140 Train Loss: 0.6021017720994714 Test Loss: 0.6403020513721475\n",
            "Epoch: 141 Train Loss: 0.6017426216145354 Test Loss: 0.6401733778570088\n",
            "Epoch: 142 Train Loss: 0.6015300988750039 Test Loss: 0.6399381412701295\n",
            "Epoch: 143 Train Loss: 0.6009199665659966 Test Loss: 0.6391513749665139\n",
            "Epoch: 144 Train Loss: 0.6004615624629827 Test Loss: 0.6387223481132001\n",
            "Epoch: 145 Train Loss: 0.5998925485019312 Test Loss: 0.6381490902157\n",
            "Epoch: 146 Train Loss: 0.5994269122100252 Test Loss: 0.6382240002655065\n",
            "Epoch: 147 Train Loss: 0.5984351312386483 Test Loss: 0.6374522170895491\n",
            "Epoch: 148 Train Loss: 0.5977962875375352 Test Loss: 0.637596296980163\n",
            "Epoch: 149 Train Loss: 0.5972745979551237 Test Loss: 0.6371801406906332\n",
            "Epoch: 150 Train Loss: 0.5969664156435871 Test Loss: 0.6371794246699639\n",
            "Epoch: 151 Train Loss: 0.5968259995201387 Test Loss: 0.6371369099402474\n",
            "Epoch: 152 Train Loss: 0.5967252726722765 Test Loss: 0.6372025925718134\n",
            "Epoch: 153 Train Loss: 0.5963580048048792 Test Loss: 0.6369186621029582\n",
            "Epoch: 154 Train Loss: 0.5961546212394634 Test Loss: 0.6367353965789019\n",
            "Epoch: 155 Train Loss: 0.5959628654254329 Test Loss: 0.6364049397638473\n",
            "Epoch: 156 Train Loss: 0.595805119630224 Test Loss: 0.6367773826095228\n",
            "Epoch: 157 Train Loss: 0.5954007148687077 Test Loss: 0.6357527919119648\n",
            "Epoch: 158 Train Loss: 0.595189181358957 Test Loss: 0.6354511426828479\n",
            "Epoch: 159 Train Loss: 0.5948597586020719 Test Loss: 0.6349767455576494\n",
            "Epoch: 160 Train Loss: 0.5947294458138922 Test Loss: 0.6346164517012874\n",
            "Epoch: 161 Train Loss: 0.594452603456391 Test Loss: 0.6345908238514462\n",
            "Epoch: 162 Train Loss: 0.5942931172174313 Test Loss: 0.6343124882516068\n",
            "Epoch: 163 Train Loss: 0.593948123002016 Test Loss: 0.6340605258242525\n",
            "Epoch: 164 Train Loss: 0.5941677162831936 Test Loss: 0.6344747768309661\n",
            "Epoch: 165 Train Loss: 0.5936597591702406 Test Loss: 0.6336548507985448\n",
            "Epoch: 166 Train Loss: 0.5935091806289862 Test Loss: 0.6336373161327487\n",
            "Epoch: 167 Train Loss: 0.5932696433888257 Test Loss: 0.63391186186317\n",
            "Epoch: 168 Train Loss: 0.5931575363792867 Test Loss: 0.6335871350385999\n",
            "Epoch: 169 Train Loss: 0.5928580284440955 Test Loss: 0.6336371197309743\n",
            "Epoch: 170 Train Loss: 0.5926925796698065 Test Loss: 0.6331467644983853\n",
            "Epoch: 171 Train Loss: 0.5925372492000415 Test Loss: 0.6333788152019988\n",
            "Epoch: 172 Train Loss: 0.59251061061112 Test Loss: 0.6331009082754656\n",
            "Epoch: 173 Train Loss: 0.5922259289922692 Test Loss: 0.6332161156687518\n",
            "Epoch: 174 Train Loss: 0.591991415901729 Test Loss: 0.633003642374903\n",
            "Epoch: 175 Train Loss: 0.5919710542737002 Test Loss: 0.632878880922563\n",
            "Epoch: 176 Train Loss: 0.5916129762106818 Test Loss: 0.6325799867091527\n",
            "Epoch: 177 Train Loss: 0.5913374085066848 Test Loss: 0.6321818275716965\n",
            "Epoch: 178 Train Loss: 0.5909451352873555 Test Loss: 0.6317274792494623\n",
            "Epoch: 179 Train Loss: 0.5908355083809879 Test Loss: 0.6315474749334143\n",
            "Epoch: 180 Train Loss: 0.5906238295247362 Test Loss: 0.6313898432888456\n",
            "Epoch: 181 Train Loss: 0.5901997450444936 Test Loss: 0.6309849961276681\n",
            "Epoch: 182 Train Loss: 0.5898990592799457 Test Loss: 0.6309061109023093\n",
            "Epoch: 183 Train Loss: 0.5896598760158329 Test Loss: 0.6306422015960783\n",
            "Epoch: 184 Train Loss: 0.589198321687651 Test Loss: 0.6303438870607112\n",
            "Epoch: 185 Train Loss: 0.5889344175232349 Test Loss: 0.6302397603650209\n",
            "Epoch: 186 Train Loss: 0.5886283738316643 Test Loss: 0.630098804746413\n",
            "Epoch: 187 Train Loss: 0.5886078551162461 Test Loss: 0.6301646325118958\n",
            "Epoch: 188 Train Loss: 0.5883745056950577 Test Loss: 0.6302731283161561\n",
            "Epoch: 189 Train Loss: 0.5882202154213478 Test Loss: 0.6303349927946374\n",
            "Epoch: 190 Train Loss: 0.5879491689077438 Test Loss: 0.6301487612986778\n",
            "Epoch: 191 Train Loss: 0.5879744678627861 Test Loss: 0.6301702224195945\n",
            "Epoch: 192 Train Loss: 0.5877636610682863 Test Loss: 0.630163368063172\n",
            "Epoch: 193 Train Loss: 0.5877402801408561 Test Loss: 0.6303955781060737\n",
            "Epoch: 194 Train Loss: 0.5876633670727843 Test Loss: 0.6302942597970503\n",
            "Epoch: 195 Train Loss: 0.5874553529648657 Test Loss: 0.6302826921550887\n",
            "Epoch: 196 Train Loss: 0.5873547957175065 Test Loss: 0.6301815503085041\n",
            "Epoch: 197 Train Loss: 0.5872393614308208 Test Loss: 0.6302190658451667\n",
            "Epoch: 198 Train Loss: 0.587118170195188 Test Loss: 0.6300902872122123\n",
            "Epoch: 199 Train Loss: 0.5870663867962513 Test Loss: 0.6301937329064545\n",
            "Epoch: 200 Train Loss: 0.5868479785693899 Test Loss: 0.6300178440529557\n",
            "Epoch: 201 Train Loss: 0.5865970614208045 Test Loss: 0.6299429387704286\n",
            "Epoch: 202 Train Loss: 0.5867249608041115 Test Loss: 0.6299995757631133\n",
            "Epoch: 203 Train Loss: 0.5864688260073027 Test Loss: 0.6299179961440521\n",
            "Epoch: 204 Train Loss: 0.5862790424653012 Test Loss: 0.629855122861821\n",
            "Epoch: 205 Train Loss: 0.5862605288176196 Test Loss: 0.6298545392046143\n",
            "Epoch: 206 Train Loss: 0.5860836035683306 Test Loss: 0.6297950159678753\n",
            "Epoch: 207 Train Loss: 0.5858951131638168 Test Loss: 0.6297270613698975\n",
            "Epoch: 208 Train Loss: 0.5858835767861834 Test Loss: 0.6296505272047351\n",
            "Epoch: 209 Train Loss: 0.5856580355084965 Test Loss: 0.6294901600600485\n",
            "Epoch: 210 Train Loss: 0.585617073397213 Test Loss: 0.6295946983241172\n",
            "Epoch: 211 Train Loss: 0.5855226792608393 Test Loss: 0.6294011418067011\n",
            "Epoch: 212 Train Loss: 0.585304506850358 Test Loss: 0.6293122454106519\n",
            "Epoch: 213 Train Loss: 0.585285505102122 Test Loss: 0.6293217289549193\n",
            "Epoch: 214 Train Loss: 0.5851549176484698 Test Loss: 0.6291602702069222\n",
            "Epoch: 215 Train Loss: 0.584998988311598 Test Loss: 0.6294206723830852\n",
            "Epoch: 216 Train Loss: 0.5850411560376575 Test Loss: 0.6293749663420423\n",
            "Epoch: 217 Train Loss: 0.5849379375220893 Test Loss: 0.6290708955312349\n",
            "Epoch: 218 Train Loss: 0.5847306936019371 Test Loss: 0.6289019862629432\n",
            "Epoch: 219 Train Loss: 0.5844817838685656 Test Loss: 0.628775442226739\n",
            "Epoch: 220 Train Loss: 0.584242911471388 Test Loss: 0.6288822561497163\n",
            "Epoch: 221 Train Loss: 0.584116780737013 Test Loss: 0.6286900921850627\n",
            "Epoch: 222 Train Loss: 0.5840277110613 Test Loss: 0.6284557449049658\n",
            "Epoch: 223 Train Loss: 0.5839361423944659 Test Loss: 0.6289074281666182\n",
            "Epoch: 224 Train Loss: 0.5837742981642129 Test Loss: 0.6285193453201323\n",
            "Epoch: 225 Train Loss: 0.5836191319068083 Test Loss: 0.6283800652859403\n",
            "Epoch: 226 Train Loss: 0.583669647421609 Test Loss: 0.6282615973657669\n",
            "Epoch: 227 Train Loss: 0.583486596242513 Test Loss: 0.6283522369664645\n",
            "Epoch: 228 Train Loss: 0.5835507928878946 Test Loss: 0.6285897243006402\n",
            "Epoch: 229 Train Loss: 0.5833108809797553 Test Loss: 0.6281795852945125\n",
            "Epoch: 230 Train Loss: 0.5834266467342593 Test Loss: 0.6288395758328098\n"
          ]
        },
        {
          "name": "stdout",
          "output_type": "stream",
          "text": [
            "Epoch: 231 Train Loss: 0.5831594963883685 Test Loss: 0.6283747414929556\n",
            "Epoch: 232 Train Loss: 0.5831736292359044 Test Loss: 0.628341428514906\n",
            "Epoch: 233 Train Loss: 0.583089300763453 Test Loss: 0.628156041871777\n",
            "Epoch: 234 Train Loss: 0.5831023867110812 Test Loss: 0.6282685080175372\n",
            "Epoch: 235 Train Loss: 0.5829245487703901 Test Loss: 0.6279736927060445\n",
            "Epoch: 236 Train Loss: 0.5830143618257327 Test Loss: 0.6280736918537758\n",
            "Epoch: 237 Train Loss: 0.5828477730208004 Test Loss: 0.6282226691700608\n",
            "Epoch: 238 Train Loss: 0.5827068438941813 Test Loss: 0.6279201481892152\n",
            "Epoch: 239 Train Loss: 0.5826986849289933 Test Loss: 0.6280709872754638\n",
            "Epoch: 240 Train Loss: 0.5825419390158338 Test Loss: 0.6277398245589396\n",
            "Epoch: 241 Train Loss: 0.5824625076071414 Test Loss: 0.6276689408746767\n",
            "Epoch: 242 Train Loss: 0.5823081018596493 Test Loss: 0.6277425743403602\n",
            "Epoch: 243 Train Loss: 0.5824598548957571 Test Loss: 0.6277258217648032\n",
            "Epoch: 244 Train Loss: 0.5822167289187352 Test Loss: 0.6278435578224429\n",
            "Epoch: 245 Train Loss: 0.5821476667454456 Test Loss: 0.6276763743121014\n",
            "Epoch: 246 Train Loss: 0.582095382323016 Test Loss: 0.6275147107211186\n",
            "Epoch: 247 Train Loss: 0.5818903644728014 Test Loss: 0.6269670542153906\n",
            "Epoch: 248 Train Loss: 0.5820569625471069 Test Loss: 0.6275942115015906\n",
            "Epoch: 249 Train Loss: 0.5817410144008927 Test Loss: 0.627100671202794\n",
            "Epoch: 250 Train Loss: 0.5817958788415859 Test Loss: 0.6274099097774886\n",
            "Epoch: 251 Train Loss: 0.581675287363133 Test Loss: 0.6272000714960414\n",
            "Epoch: 252 Train Loss: 0.5812505199559483 Test Loss: 0.6265440183839913\n",
            "Epoch: 253 Train Loss: 0.5815868006396534 Test Loss: 0.6272694147800519\n",
            "Epoch: 254 Train Loss: 0.5812691884657656 Test Loss: 0.6266935364553398\n",
            "Epoch: 255 Train Loss: 0.5810791225942498 Test Loss: 0.6270159044605152\n",
            "Epoch: 256 Train Loss: 0.5811362675463211 Test Loss: 0.626676100244179\n",
            "Epoch: 257 Train Loss: 0.5809956500801896 Test Loss: 0.6270287916895747\n",
            "Epoch: 258 Train Loss: 0.5808247720237402 Test Loss: 0.6264381107600105\n",
            "Epoch: 259 Train Loss: 0.5807483010677552 Test Loss: 0.6268911543236151\n",
            "Epoch: 260 Train Loss: 0.5805746425379289 Test Loss: 0.6263111451011346\n",
            "Epoch: 261 Train Loss: 0.5805484965384143 Test Loss: 0.6266700911759264\n",
            "Epoch: 262 Train Loss: 0.5804097311724687 Test Loss: 0.6263023884370166\n",
            "Epoch: 263 Train Loss: 0.5801659362137792 Test Loss: 0.6263796353792696\n",
            "Epoch: 264 Train Loss: 0.5800612423497057 Test Loss: 0.6259762537004578\n",
            "Epoch: 265 Train Loss: 0.5798889465463317 Test Loss: 0.6260453471166985\n",
            "Epoch: 266 Train Loss: 0.5799636176892152 Test Loss: 0.6265423694812461\n",
            "Epoch: 267 Train Loss: 0.5796876181271975 Test Loss: 0.6258873982059004\n",
            "Epoch: 268 Train Loss: 0.5795474561522247 Test Loss: 0.6260849865633712\n",
            "Epoch: 269 Train Loss: 0.5793783894460459 Test Loss: 0.6256281528722335\n",
            "Epoch: 270 Train Loss: 0.5792617815742583 Test Loss: 0.6255793530646875\n",
            "Epoch: 271 Train Loss: 0.5792512005176276 Test Loss: 0.6254343302347408\n",
            "Epoch: 272 Train Loss: 0.5790984048344219 Test Loss: 0.6257045691656453\n",
            "Epoch: 273 Train Loss: 0.5789804193653582 Test Loss: 0.6253423274229901\n",
            "Epoch: 274 Train Loss: 0.5787895364920796 Test Loss: 0.6254283123177916\n",
            "Epoch: 275 Train Loss: 0.5787748181293235 Test Loss: 0.6258258782852965\n",
            "Epoch: 276 Train Loss: 0.578624100325931 Test Loss: 0.6253935912982918\n",
            "Epoch: 277 Train Loss: 0.5785582239771072 Test Loss: 0.6254756102066539\n",
            "Epoch: 278 Train Loss: 0.5785553884314484 Test Loss: 0.6253117050895376\n",
            "Epoch: 279 Train Loss: 0.578435509351795 Test Loss: 0.6255439619811047\n",
            "Epoch: 280 Train Loss: 0.5783205321866998 Test Loss: 0.6252333537388136\n",
            "Epoch: 281 Train Loss: 0.5782020245569466 Test Loss: 0.6253411783840893\n",
            "Epoch: 282 Train Loss: 0.5782541794541675 Test Loss: 0.625394286398764\n",
            "Epoch: 283 Train Loss: 0.5780619449612392 Test Loss: 0.6252740289300347\n",
            "Epoch: 284 Train Loss: 0.578047906199553 Test Loss: 0.6250194777330031\n",
            "Epoch: 285 Train Loss: 0.5778504010253039 Test Loss: 0.6251413642307709\n",
            "Epoch: 286 Train Loss: 0.5780139699046477 Test Loss: 0.6253320232751993\n",
            "Epoch: 287 Train Loss: 0.5776341729612411 Test Loss: 0.6253533761074892\n",
            "Epoch: 288 Train Loss: 0.5774591167164818 Test Loss: 0.6253940847173811\n",
            "Epoch: 289 Train Loss: 0.5773928709553553 Test Loss: 0.6249431692946459\n",
            "Epoch: 290 Train Loss: 0.5770973545993018 Test Loss: 0.6247383021297067\n",
            "Epoch: 291 Train Loss: 0.5770063669603868 Test Loss: 0.6250592392921334\n",
            "Epoch: 292 Train Loss: 0.5769693170518188 Test Loss: 0.6251732753238286\n",
            "Epoch: 293 Train Loss: 0.5769084340180748 Test Loss: 0.6248672745886974\n",
            "Epoch: 294 Train Loss: 0.5767422631936722 Test Loss: 0.6253387698414408\n",
            "Epoch: 295 Train Loss: 0.5766090768186036 Test Loss: 0.6248518799513112\n",
            "Epoch: 296 Train Loss: 0.5765349063336175 Test Loss: 0.6250827402248117\n",
            "Epoch: 297 Train Loss: 0.576396928216488 Test Loss: 0.6247487892662899\n",
            "Epoch: 298 Train Loss: 0.5764459085661118 Test Loss: 0.625143577342444\n",
            "Epoch: 299 Train Loss: 0.5762061256892493 Test Loss: 0.6247941342495087\n",
            "Epoch: 300 Train Loss: 0.5762499248228935 Test Loss: 0.6250605052637002\n",
            "Epoch: 301 Train Loss: 0.5760903348095916 Test Loss: 0.6247313158964836\n",
            "Epoch: 302 Train Loss: 0.5760184329769192 Test Loss: 0.6248822616278246\n",
            "Epoch: 303 Train Loss: 0.5760637787443508 Test Loss: 0.6251237157108532\n",
            "Epoch: 304 Train Loss: 0.5758500265382467 Test Loss: 0.6251448125068811\n",
            "Epoch: 305 Train Loss: 0.575912082235854 Test Loss: 0.6249842182779914\n",
            "Epoch: 306 Train Loss: 0.5758184687022437 Test Loss: 0.6250942414112072\n",
            "Epoch: 307 Train Loss: 0.5759683559692361 Test Loss: 0.6251298100102768\n",
            "Epoch: 308 Train Loss: 0.5756742711844695 Test Loss: 0.6251070382074062\n",
            "Epoch: 309 Train Loss: 0.5755676471444727 Test Loss: 0.6249475647490447\n",
            "Epoch: 310 Train Loss: 0.5757554925985127 Test Loss: 0.625503246129329\n",
            "Epoch: 311 Train Loss: 0.5754208852957166 Test Loss: 0.624945909677804\n",
            "Epoch: 312 Train Loss: 0.5754704655224463 Test Loss: 0.6247855574886438\n",
            "Epoch: 313 Train Loss: 0.5752738308092845 Test Loss: 0.6249781537605795\n",
            "Epoch: 314 Train Loss: 0.5754228181113613 Test Loss: 0.6250251005779379\n",
            "Epoch: 315 Train Loss: 0.5751653247721098 Test Loss: 0.6250883432329053\n",
            "Epoch: 316 Train Loss: 0.5751402402742957 Test Loss: 0.6249701957274094\n",
            "Epoch: 317 Train Loss: 0.5752529210569786 Test Loss: 0.6252098034577863\n",
            "Epoch: 318 Train Loss: 0.5750811812056903 Test Loss: 0.6253661573524102\n",
            "Epoch: 319 Train Loss: 0.5750035323690299 Test Loss: 0.6251578848433987\n",
            "Epoch: 320 Train Loss: 0.5749173252553246 Test Loss: 0.6256801744094966\n",
            "Epoch: 321 Train Loss: 0.5747013195117061 Test Loss: 0.6253109003507757\n",
            "Epoch: 322 Train Loss: 0.5748047574080742 Test Loss: 0.6253394461688053\n",
            "Epoch: 323 Train Loss: 0.5746191911489866 Test Loss: 0.6253266493306694\n",
            "Epoch: 324 Train Loss: 0.5748475189007028 Test Loss: 0.6256092130460411\n",
            "Epoch: 325 Train Loss: 0.5745605774503848 Test Loss: 0.6252628850179078\n",
            "Epoch: 326 Train Loss: 0.5744331640076803 Test Loss: 0.6256127105502427\n",
            "Epoch: 327 Train Loss: 0.5745609174487891 Test Loss: 0.626007355859491\n",
            "Epoch: 328 Train Loss: 0.5743423807586296 Test Loss: 0.6255965359849474\n",
            "Epoch: 329 Train Loss: 0.5743478057325876 Test Loss: 0.6259548282932038\n",
            "Epoch: 330 Train Loss: 0.5743538939420819 Test Loss: 0.6258689630419164\n",
            "Epoch: 331 Train Loss: 0.5741519472150041 Test Loss: 0.625555789972709\n",
            "Epoch: 332 Train Loss: 0.5742401166700287 Test Loss: 0.6256557920706718\n",
            "Epoch: 333 Train Loss: 0.5741326906597203 Test Loss: 0.6258146332363854\n",
            "Epoch: 334 Train Loss: 0.5741476685968928 Test Loss: 0.6260543098883148\n",
            "Epoch: 335 Train Loss: 0.5740916562019567 Test Loss: 0.625840354175213\n",
            "Epoch: 336 Train Loss: 0.5739572524719381 Test Loss: 0.6259827543422262\n",
            "Epoch: 337 Train Loss: 0.574014184659134 Test Loss: 0.6262743864382174\n",
            "Epoch: 338 Train Loss: 0.5738350908225405 Test Loss: 0.6256685865432989\n",
            "Epoch: 339 Train Loss: 0.573833986709867 Test Loss: 0.6256201503842355\n",
            "Epoch: 340 Train Loss: 0.5737664427976986 Test Loss: 0.626232777748183\n",
            "Epoch: 341 Train Loss: 0.5735533819362684 Test Loss: 0.6256526627066261\n",
            "Epoch: 342 Train Loss: 0.5736624347591763 Test Loss: 0.6257259110399762\n",
            "Epoch: 343 Train Loss: 0.5736203237023795 Test Loss: 0.625893095627217\n",
            "Epoch: 344 Train Loss: 0.5736724812857087 Test Loss: 0.6260992814942031\n",
            "Epoch: 345 Train Loss: 0.5735607717777675 Test Loss: 0.6256127331755619\n"
          ]
        },
        {
          "name": "stdout",
          "output_type": "stream",
          "text": [
            "Epoch: 346 Train Loss: 0.5734299029356207 Test Loss: 0.6259888540119644\n",
            "Epoch: 347 Train Loss: 0.5734923756801228 Test Loss: 0.6260487277881023\n",
            "Epoch: 348 Train Loss: 0.5732690021728946 Test Loss: 0.6257191123961815\n",
            "Epoch: 349 Train Loss: 0.5734076951811578 Test Loss: 0.6255046917482311\n",
            "Epoch: 350 Train Loss: 0.5732484412103671 Test Loss: 0.6258812117863873\n",
            "Epoch: 351 Train Loss: 0.5730258505792275 Test Loss: 0.6253881005013807\n",
            "Epoch: 352 Train Loss: 0.5731970893032465 Test Loss: 0.6256083612183925\n",
            "Epoch: 353 Train Loss: 0.5730671474316149 Test Loss: 0.6256236867603348\n",
            "Epoch: 354 Train Loss: 0.5731068225215329 Test Loss: 0.6257524629448432\n",
            "Epoch: 355 Train Loss: 0.5730004376080627 Test Loss: 0.6255419073974694\n",
            "Epoch: 356 Train Loss: 0.5730004097046654 Test Loss: 0.6252543812584859\n",
            "Epoch: 357 Train Loss: 0.5729343204315523 Test Loss: 0.625865914761819\n",
            "Epoch: 358 Train Loss: 0.5728353382558173 Test Loss: 0.6253833458277522\n",
            "Epoch: 359 Train Loss: 0.572778198681987 Test Loss: 0.6253748231926963\n",
            "Epoch: 360 Train Loss: 0.5727959849236638 Test Loss: 0.6256800991609781\n",
            "Epoch: 361 Train Loss: 0.5727114494419808 Test Loss: 0.6253372533115444\n",
            "Epoch: 362 Train Loss: 0.5726396883645302 Test Loss: 0.6253058133817876\n",
            "Epoch: 363 Train Loss: 0.5726621944581534 Test Loss: 0.6256348431922364\n",
            "Epoch: 364 Train Loss: 0.5724199306927482 Test Loss: 0.6253887587715644\n",
            "Epoch: 365 Train Loss: 0.5724855963277855 Test Loss: 0.6250664039781628\n",
            "Epoch: 366 Train Loss: 0.5725991889427627 Test Loss: 0.6255126928193655\n",
            "Epoch: 367 Train Loss: 0.5724000441196434 Test Loss: 0.6249159217714425\n",
            "Epoch: 368 Train Loss: 0.5722329904954132 Test Loss: 0.6252388389126202\n",
            "Epoch: 369 Train Loss: 0.5725054282324413 Test Loss: 0.6253844819865376\n",
            "Epoch: 370 Train Loss: 0.5722223505967082 Test Loss: 0.6248559372875186\n",
            "Epoch: 371 Train Loss: 0.5721644003167644 Test Loss: 0.625289738618846\n",
            "Epoch: 372 Train Loss: 0.5722308086837754 Test Loss: 0.6252537927877823\n",
            "Epoch: 373 Train Loss: 0.5720219455722594 Test Loss: 0.6247596782749887\n",
            "Epoch: 374 Train Loss: 0.5719256740100218 Test Loss: 0.6247115775734405\n",
            "Epoch: 375 Train Loss: 0.5720635357259236 Test Loss: 0.625133683640943\n",
            "Epoch: 376 Train Loss: 0.5718537458491966 Test Loss: 0.6246495824877243\n",
            "Epoch: 377 Train Loss: 0.57196050064054 Test Loss: 0.6245209236198689\n",
            "Epoch: 378 Train Loss: 0.5718303229755606 Test Loss: 0.6251763017561764\n",
            "Epoch: 379 Train Loss: 0.5717053478330588 Test Loss: 0.6246318203972472\n",
            "Epoch: 380 Train Loss: 0.5718297390446124 Test Loss: 0.6245007378376174\n",
            "Epoch: 381 Train Loss: 0.5716970608594432 Test Loss: 0.6246513533687605\n",
            "Epoch: 382 Train Loss: 0.5717850626168689 Test Loss: 0.6245847188243342\n",
            "Epoch: 383 Train Loss: 0.5716340844815821 Test Loss: 0.6242138551517343\n",
            "Epoch: 384 Train Loss: 0.5716496005768796 Test Loss: 0.6244039011759155\n",
            "Epoch: 385 Train Loss: 0.5716962664473472 Test Loss: 0.6244765663575512\n",
            "Epoch: 386 Train Loss: 0.5714945214550895 Test Loss: 0.6242840804353376\n",
            "Epoch: 387 Train Loss: 0.5715836688237999 Test Loss: 0.6240934103875132\n",
            "Epoch: 388 Train Loss: 0.5714948621621359 Test Loss: 0.6243955764972807\n",
            "Epoch: 389 Train Loss: 0.5712687880796326 Test Loss: 0.6242235132881581\n",
            "Epoch: 390 Train Loss: 0.5713778773147022 Test Loss: 0.6240022533939513\n",
            "Epoch: 391 Train Loss: 0.5713258191121313 Test Loss: 0.6242801575849577\n",
            "Epoch: 392 Train Loss: 0.571016477100391 Test Loss: 0.6240845012519516\n",
            "Epoch: 393 Train Loss: 0.5712500207791851 Test Loss: 0.6239990869356854\n",
            "Epoch: 394 Train Loss: 0.5711373911118063 Test Loss: 0.6239774147210113\n",
            "Epoch: 395 Train Loss: 0.5712077823170452 Test Loss: 0.6244494403002913\n",
            "Epoch: 396 Train Loss: 0.5711322162294659 Test Loss: 0.6238770740967127\n",
            "Epoch: 397 Train Loss: 0.571101577463801 Test Loss: 0.6239449585097379\n",
            "Epoch: 398 Train Loss: 0.5709488733483102 Test Loss: 0.6242504874639174\n",
            "Epoch: 399 Train Loss: 0.571012616221733 Test Loss: 0.6238552408591596\n",
            "Epoch: 400 Train Loss: 0.5708749361412465 Test Loss: 0.6238285112807316\n",
            "Epoch: 401 Train Loss: 0.5707172656245407 Test Loss: 0.6237713503623705\n",
            "Epoch: 402 Train Loss: 0.5710558000908691 Test Loss: 0.6240509154448908\n",
            "Epoch: 403 Train Loss: 0.5708843372699564 Test Loss: 0.6234429349381062\n",
            "Epoch: 404 Train Loss: 0.5707219411607556 Test Loss: 0.6239783925754686\n",
            "Epoch: 405 Train Loss: 0.5708080187541456 Test Loss: 0.6239891447896283\n",
            "Epoch: 406 Train Loss: 0.5707645721109711 Test Loss: 0.6235237674789041\n",
            "Epoch: 407 Train Loss: 0.5706283754788675 Test Loss: 0.6235613549415494\n",
            "Epoch: 408 Train Loss: 0.5707177234942021 Test Loss: 0.6238941063325519\n",
            "Epoch: 409 Train Loss: 0.5704267059927641 Test Loss: 0.6232936655547346\n",
            "Epoch: 410 Train Loss: 0.5704934861261609 Test Loss: 0.6233054178160484\n",
            "Epoch: 411 Train Loss: 0.5704162357076886 Test Loss: 0.6235949614764343\n",
            "Epoch: 412 Train Loss: 0.5702380282239682 Test Loss: 0.6234160213667169\n",
            "Epoch: 413 Train Loss: 0.5703243858910814 Test Loss: 0.6232475120786497\n",
            "Epoch: 414 Train Loss: 0.5704079870463662 Test Loss: 0.623816962379115\n",
            "Epoch: 415 Train Loss: 0.5700203606154444 Test Loss: 0.6233335319080258\n",
            "Epoch: 416 Train Loss: 0.5701489340125792 Test Loss: 0.6232276194307582\n",
            "Epoch: 417 Train Loss: 0.5700848421398497 Test Loss: 0.623291248764934\n",
            "Epoch: 418 Train Loss: 0.5700356128599002 Test Loss: 0.6235606887981642\n",
            "Epoch: 419 Train Loss: 0.5699832459354006 Test Loss: 0.6231913434184928\n",
            "Epoch: 420 Train Loss: 0.5698878520516019 Test Loss: 0.623221091048455\n",
            "Epoch: 421 Train Loss: 0.5699594848651903 Test Loss: 0.6232993998613278\n",
            "Epoch: 422 Train Loss: 0.5700787901298147 Test Loss: 0.6233852251055072\n",
            "Epoch: 423 Train Loss: 0.569732921025994 Test Loss: 0.6230421486047335\n",
            "Epoch: 424 Train Loss: 0.5698092887741613 Test Loss: 0.6234282293907452\n",
            "Epoch: 425 Train Loss: 0.5697222667394636 Test Loss: 0.6230530841908675\n",
            "Epoch: 426 Train Loss: 0.5695331178542734 Test Loss: 0.6230251082935581\n",
            "Epoch: 427 Train Loss: 0.5694834037761596 Test Loss: 0.623277211122724\n",
            "Epoch: 428 Train Loss: 0.5695467222960401 Test Loss: 0.62335641912897\n",
            "Epoch: 429 Train Loss: 0.5696395348191672 Test Loss: 0.6230796041527078\n",
            "Epoch: 430 Train Loss: 0.5696135363102024 Test Loss: 0.6227468674675313\n",
            "Epoch: 431 Train Loss: 0.5695794818966804 Test Loss: 0.6231751453840392\n",
            "Epoch: 432 Train Loss: 0.5692592436832529 Test Loss: 0.6229073767598007\n",
            "Epoch: 433 Train Loss: 0.56942659023132 Test Loss: 0.6227404246109672\n",
            "Epoch: 434 Train Loss: 0.5694849610255603 Test Loss: 0.6231706653582587\n",
            "Epoch: 435 Train Loss: 0.5692525059607577 Test Loss: 0.6227548794937406\n",
            "Epoch: 436 Train Loss: 0.5692324596617175 Test Loss: 0.6227242078353337\n",
            "Epoch: 437 Train Loss: 0.569113278375221 Test Loss: 0.6228495455328029\n",
            "Epoch: 438 Train Loss: 0.5692773257114198 Test Loss: 0.6230238618390251\n",
            "Epoch: 439 Train Loss: 0.5691670484274898 Test Loss: 0.6227430980579042\n",
            "Epoch: 440 Train Loss: 0.5691750185766297 Test Loss: 0.6228970923339376\n",
            "Epoch: 441 Train Loss: 0.569130289313384 Test Loss: 0.6229376529492897\n",
            "Epoch: 442 Train Loss: 0.5689096593646285 Test Loss: 0.6226947899609623\n",
            "Epoch: 443 Train Loss: 0.5690398518195935 Test Loss: 0.6225106589185466\n",
            "Epoch: 444 Train Loss: 0.568880225156021 Test Loss: 0.623045933114167\n",
            "Epoch: 445 Train Loss: 0.5687733005729304 Test Loss: 0.6224982421292252\n",
            "Epoch: 446 Train Loss: 0.5688213574232239 Test Loss: 0.6223496795383434\n",
            "Epoch: 447 Train Loss: 0.5687813104144904 Test Loss: 0.6227881657519005\n",
            "Epoch: 448 Train Loss: 0.5689859842733684 Test Loss: 0.622761973384286\n",
            "Epoch: 449 Train Loss: 0.5686636227473078 Test Loss: 0.6225389783088433\n",
            "Epoch: 450 Train Loss: 0.5686386208223705 Test Loss: 0.6224759794812468\n",
            "Epoch: 451 Train Loss: 0.5687778422317558 Test Loss: 0.6227906165163759\n",
            "Epoch: 452 Train Loss: 0.5686178006481264 Test Loss: 0.6223076506274706\n",
            "Epoch: 453 Train Loss: 0.5685125254697803 Test Loss: 0.6223010703413648\n",
            "Epoch: 454 Train Loss: 0.5684774104904472 Test Loss: 0.6224119697198239\n",
            "Epoch: 455 Train Loss: 0.5686554087690183 Test Loss: 0.6225920269678452\n",
            "Epoch: 456 Train Loss: 0.5684696945201307 Test Loss: 0.6222907097743002\n",
            "Epoch: 457 Train Loss: 0.5684886716046998 Test Loss: 0.6224128404057756\n",
            "Epoch: 458 Train Loss: 0.5685610117213403 Test Loss: 0.6224826594313606\n",
            "Epoch: 459 Train Loss: 0.5683312628330682 Test Loss: 0.6222114757432249\n",
            "Epoch: 460 Train Loss: 0.5683131337670722 Test Loss: 0.6221593240351365\n"
          ]
        },
        {
          "name": "stdout",
          "output_type": "stream",
          "text": [
            "Epoch: 461 Train Loss: 0.568281895236531 Test Loss: 0.6226668415211019\n",
            "Epoch: 462 Train Loss: 0.5682620394327806 Test Loss: 0.6221445297922353\n",
            "Epoch: 463 Train Loss: 0.568272851337897 Test Loss: 0.6218074260834483\n",
            "Epoch: 464 Train Loss: 0.5680591777090959 Test Loss: 0.6221958300582315\n",
            "Epoch: 465 Train Loss: 0.5681612346658194 Test Loss: 0.6224171655477498\n",
            "Epoch: 466 Train Loss: 0.5682551337874775 Test Loss: 0.6220645663470493\n",
            "Epoch: 467 Train Loss: 0.568119047373241 Test Loss: 0.6220532975794895\n",
            "Epoch: 468 Train Loss: 0.5681364439856816 Test Loss: 0.6221481052842937\n",
            "Epoch: 469 Train Loss: 0.5680436621099033 Test Loss: 0.6218519690980342\n",
            "Epoch: 470 Train Loss: 0.5680235587930013 Test Loss: 0.6218726408129522\n",
            "Epoch: 471 Train Loss: 0.5679313416761369 Test Loss: 0.6218588545304491\n",
            "Epoch: 472 Train Loss: 0.567997808135778 Test Loss: 0.6220641308180527\n",
            "Epoch: 473 Train Loss: 0.5678473889649011 Test Loss: 0.6216988293047163\n",
            "Epoch: 474 Train Loss: 0.5677386767199655 Test Loss: 0.621773083904899\n",
            "Epoch: 475 Train Loss: 0.5678090825252917 Test Loss: 0.6217477066889623\n",
            "Epoch: 476 Train Loss: 0.5679056089430151 Test Loss: 0.6222242932499743\n",
            "Epoch: 477 Train Loss: 0.5677413790773573 Test Loss: 0.6217427709123454\n",
            "Epoch: 478 Train Loss: 0.5677495197886065 Test Loss: 0.6216494015248505\n",
            "Epoch: 479 Train Loss: 0.5678195608269356 Test Loss: 0.6219757881419727\n",
            "Epoch: 480 Train Loss: 0.5676242305018174 Test Loss: 0.6217828094398758\n",
            "Epoch: 481 Train Loss: 0.5674875319268399 Test Loss: 0.6217111758255314\n",
            "Epoch: 482 Train Loss: 0.5675280631373116 Test Loss: 0.621719651938932\n",
            "Epoch: 483 Train Loss: 0.5675345690510814 Test Loss: 0.6221728459344558\n",
            "Epoch: 484 Train Loss: 0.5674060675970226 Test Loss: 0.6216007162192272\n",
            "Epoch: 485 Train Loss: 0.5675503431693444 Test Loss: 0.6213469239204383\n",
            "Epoch: 486 Train Loss: 0.5675981682983199 Test Loss: 0.6219320732824305\n",
            "Epoch: 487 Train Loss: 0.5672546645404828 Test Loss: 0.621658354318043\n",
            "Epoch: 488 Train Loss: 0.5673505830853739 Test Loss: 0.6213005566779418\n",
            "Epoch: 489 Train Loss: 0.5672620996940749 Test Loss: 0.6214814027254519\n",
            "Epoch: 490 Train Loss: 0.5674101744116724 Test Loss: 0.621591061320483\n",
            "Epoch: 491 Train Loss: 0.567248794484275 Test Loss: 0.6212183860771741\n",
            "Epoch: 492 Train Loss: 0.5672458792774604 Test Loss: 0.6210865257863538\n",
            "Epoch: 493 Train Loss: 0.5672379108692116 Test Loss: 0.6215722316571751\n",
            "Epoch: 494 Train Loss: 0.5670320307334538 Test Loss: 0.6212090136025092\n",
            "Epoch: 495 Train Loss: 0.5670871532598688 Test Loss: 0.6211615633338411\n",
            "Epoch: 496 Train Loss: 0.5671930170797203 Test Loss: 0.6214055106328046\n",
            "Epoch: 497 Train Loss: 0.5670082345276044 Test Loss: 0.621142507411154\n",
            "Epoch: 498 Train Loss: 0.5669851262562923 Test Loss: 0.6208425449639876\n",
            "Epoch: 499 Train Loss: 0.5669977851310845 Test Loss: 0.6207440978455863\n",
            "Best loss: 0.6207440978455863 Final loss: 0.6207440978455863\n",
            "Correlation coefficient: 0.47201098289551785\n"
          ]
        },
        {
          "data": {
            "image/png": "[encoded data removed]",
            "text/plain": [
              "<Figure size 432x288 with 1 Axes>"
            ]
          },
          "metadata": {
            "needs_background": "light"
          },
          "output_type": "display_data"
        },
        {
          "data": {
            "image/png": "[encoded data removed]",
            "text/plain": [
              "<Figure size 432x288 with 1 Axes>"
            ]
          },
          "metadata": {
            "needs_background": "light"
          },
          "output_type": "display_data"
        },
        {
          "name": "stdout",
          "output_type": "stream",
          "text": [
            "CPU times: user 1min 10s, sys: 1.99 s, total: 1min 12s\n",
            "Wall time: 1min 10s\n"
          ]
        }
      ],
      "source": [
        "%%time\n",
        "# The code below implements the training.\n",
        "# If you correctly implement  dnn and update_weights above, \n",
        "# you should not need to change anything below. \n",
        "# (apart from increasing the number of epochs)\n",
        "\n",
        "train_losses = []\n",
        "test_losses = []\n",
        "\n",
        "# How many epochs to train\n",
        "# This will just train for one epoch\n",
        "# You will want a higher number once everything works\n",
        "n_epochs = 500\n",
        "\n",
        "# Loop over the epochs\n",
        "for ep in range(n_epochs):\n",
        "        \n",
        "    # Each epoch is a complete over the training data\n",
        "    for i in range(X_train.shape[0]):\n",
        "        \n",
        "        # pick one example\n",
        "        x = X_train[i]\n",
        "        y = y_train[i]\n",
        "#         print('new sample...')\n",
        "        # use it to update the weights\n",
        "        W,b,Wp,bp = update_weights(x,y,W,b,Wp,bp)\n",
        "#         print(W,b,Wp,bp)\n",
        "    # Calculate predictions for the full training and testing sample\n",
        "    y_pred_train = [dnn(x,W,b,Wp,bp)[0] for x in X_train]\n",
        "    y_pred = [dnn(x,W,b,Wp,bp)[0] for x in X_test]\n",
        "\n",
        "    # Calculate aver loss / example over the epoch\n",
        "    train_loss = sum((y_pred_train-y_train)**2) / y_train.shape[0]\n",
        "    test_loss = sum((y_pred-y_test)**2) / y_test.shape[0] \n",
        "    \n",
        "    # print some information\n",
        "    print(\"Epoch:\",ep, \"Train Loss:\", train_loss, \"Test Loss:\", test_loss)\n",
        "    \n",
        "    # and store the losses for later use\n",
        "    train_losses.append(train_loss)\n",
        "    test_losses.append(test_loss)\n",
        "    \n",
        "    \n",
        "# After the training:\n",
        "    "
      ]
    },
    {
      "cell_type": "code",
      "execution_count": null,
      "metadata": {
        "id": "oG3P3cumbewn",
        "outputId": "0a1c7357-8ecb-4359-cf3a-a6c3196d01e2"
      },
      "outputs": [
        {
          "name": "stdout",
          "output_type": "stream",
          "text": [
            "Best loss: 0.6207440978455863 Final loss: 0.6207440978455863\n",
            "Correlation coefficient: 0.47201098289551785\n"
          ]
        },
        {
          "data": {
            "image/png": "[encoded data removed]",
            "text/plain": [
              "<Figure size 432x288 with 1 Axes>"
            ]
          },
          "metadata": {
            "needs_background": "light"
          },
          "output_type": "display_data"
        },
        {
          "data": {
            "image/png": "[encoded data removed]",
            "text/plain": [
              "<Figure size 432x288 with 1 Axes>"
            ]
          },
          "metadata": {
            "needs_background": "light"
          },
          "output_type": "display_data"
        }
      ],
      "source": [
        "\n",
        "# Prepare scatter plot\n",
        "y_pred = [dnn(x,W,b,Wp,bp)[0] for x in X_test]\n",
        "\n",
        "print(\"Best loss:\", min(test_losses), \"Final loss:\", test_losses[-1])\n",
        "\n",
        "print(\"Correlation coefficient:\", np.corrcoef(y_pred,y_test)[0,1])\n",
        "plt.scatter(y_pred_train,y_train, alpha = 0.2)\n",
        "plt.xlabel(\"Predicted\")\n",
        "plt.ylabel(\"True\")\n",
        "plt.show()\n",
        "\n",
        "# Prepare and loss over time\n",
        "plt.plot(train_losses,label=\"train\")\n",
        "plt.plot(test_losses,label=\"test\")\n",
        "plt.legend()\n",
        "plt.xlabel(\"Epoch\")\n",
        "plt.ylabel(\"Loss\")\n",
        "plt.show()\n"
      ]
    },
    {
      "cell_type": "markdown",
      "metadata": {
        "id": "hhI2SPE1bewn"
      },
      "source": [
        "This works worse than the linear regression ... \n",
        "well it does predict something so I guess now its bug-free\n",
        "the process is highly depedent on the learning rate :\n",
        "\n",
        "too large learning rates just converge to a single value ~6 as a prediction... \n",
        "smaller learning rates seem to do the trick better. \n",
        "\n"
      ]
    },
    {
      "cell_type": "markdown",
      "metadata": {
        "id": "4Nen08epkQB4"
      },
      "source": [
        "# Hint 1"
      ]
    },
    {
      "cell_type": "markdown",
      "metadata": {
        "id": "escPUs3CkQB5"
      },
      "source": [
        "We want a network with one hidden layer. As activiation in the hidden layer $\\sigma$ we apply element-wise ReLu, while no activation is used for the output layer. The forward pass of the network then reads:\n",
        "$$\\hat{y}=\\mathbf{W}^{\\prime} \\sigma(\\mathbf{W} \\vec{x}+\\vec{b})+b^{\\prime}$$"
      ]
    },
    {
      "cell_type": "markdown",
      "metadata": {
        "id": "_DRDzLi2kQB5"
      },
      "source": [
        "# Hint 2"
      ]
    },
    {
      "cell_type": "markdown",
      "metadata": {
        "id": "GN01itNUkQB5"
      },
      "source": [
        "For the regression problem the objective function is the mean squared error between the prediction and the true label $y$: \n",
        "$$\n",
        "L=(\\hat{y}-y)^{2}\n",
        "$$\n",
        "\n",
        "Taking the partial derivatives - and diligently the applying chain rule - with respect to the different objects yields:\n",
        "\n",
        "$$\n",
        "\\begin{aligned}\n",
        "\\frac{\\partial L}{\\partial b^{\\prime}} &=2(\\hat{y}-y) \\\\\n",
        "\\frac{\\partial L}{\\partial b_{k}} &=2(\\hat{y}-y) \\mathbf{W}_{k}^{\\prime} \\theta\\left(\\sum_{i} \\mathbf{W}_{i k} x_{i}+b_{k}\\right) \\\\\n",
        "\\frac{\\partial L}{\\partial \\mathbf{W}_{k}^{\\prime}} &=2(\\hat{y}-y) \\sigma\\left(\\sum_{i} \\mathbf{W}_{i k} x_{i}+b_{k}\\right) \\\\\n",
        "\\frac{\\partial L}{\\partial \\mathbf{W}_{k m}} &=2(\\hat{y}-y) \\mathbf{W}_{m}^{\\prime} \\theta\\left(\\sum_{i} \\mathbf{W}_{i m} x_{i}+b_{m}\\right) x_{k}\n",
        "\\end{aligned}\n",
        "$$\n",
        "\n",
        "Here, $\\Theta$ denotes the Heaviside step function."
      ]
    },
    {
      "cell_type": "code",
      "execution_count": null,
      "metadata": {
        "id": "GxQuegAEbewq"
      },
      "outputs": [],
      "source": []
    },
    {
      "cell_type": "code",
      "execution_count": null,
      "metadata": {
        "id": "rLNFJZoJbewq"
      },
      "outputs": [],
      "source": []
    }
  ],
  "metadata": {
    "colab": {
      "provenance": [],
      "include_colab_link": true
    },
    "kernelspec": {
      "display_name": "Python 3 (ipykernel)",
      "language": "python",
      "name": "python3"
    },
    "language_info": {
      "codemirror_mode": {
        "name": "ipython",
        "version": 3
      },
      "file_extension": ".py",
      "mimetype": "text/x-python",
      "name": "python",
      "nbconvert_exporter": "python",
      "pygments_lexer": "ipython3",
      "version": "3.7.12"
    }
  },
  "nbformat": 4,
  "nbformat_minor": 0
}