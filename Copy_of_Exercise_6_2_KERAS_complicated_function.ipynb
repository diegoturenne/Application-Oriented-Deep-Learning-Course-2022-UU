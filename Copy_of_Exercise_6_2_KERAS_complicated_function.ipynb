{
  "nbformat": 4,
  "nbformat_minor": 0,
  "metadata": {
    "kernelspec": {
      "display_name": "Python 3",
      "language": "python",
      "name": "python3"
    },
    "language_info": {
      "codemirror_mode": {
        "name": "ipython",
        "version": 3
      },
      "file_extension": ".py",
      "mimetype": "text/x-python",
      "name": "python",
      "nbconvert_exporter": "python",
      "pygments_lexer": "ipython3",
      "version": "3.6.9"
    },
    "colab": {
      "provenance": [],
      "toc_visible": true,
      "include_colab_link": true
    },
    "accelerator": "GPU"
  },
  "cells": [
    {
      "cell_type": "markdown",
      "metadata": {
        "id": "view-in-github",
        "colab_type": "text"
      },
      "source": [
        "<a href=\"https://colab.research.google.com/github/diegoturenne/Application-Oriented-Deep-Learning-Course-2022-UU/blob/main/Copy_of_Exercise_6_2_KERAS_complicated_function.ipynb\" target=\"_parent\"><img src=\"https://colab.research.google.com/assets/colab-badge.svg\" alt=\"Open In Colab\"/></a>"
      ]
    },
    {
      "cell_type": "markdown",
      "metadata": {
        "id": "7MUNgPo8DhVJ"
      },
      "source": [
        "# Exercise 6.2\n",
        "## Interpolation\n",
        "In this task, we implement a simple NN to learn a complicated function."
      ]
    },
    {
      "cell_type": "code",
      "metadata": {
        "id": "jonSkW8HDhVN"
      },
      "source": [
        "import numpy as np\n",
        "from tensorflow import keras\n",
        "import matplotlib.pyplot as plt\n",
        "\n",
        "layers = keras.layers"
      ],
      "execution_count": null,
      "outputs": []
    },
    {
      "cell_type": "markdown",
      "metadata": {
        "id": "PB_BSlZGDhVP"
      },
      "source": [
        "### Generation of data"
      ]
    },
    {
      "cell_type": "code",
      "metadata": {
        "id": "2dI2fNw7DhVP"
      },
      "source": [
        "def some_complicated_function(x):\n",
        "    return (\n",
        "        (np.abs(x)) ** 0.5\n",
        "        + 0.1 * x\n",
        "        + 0.01 * x ** 2\n",
        "        + 1\n",
        "        - np.sin(x)\n",
        "        + 0.5 * np.exp(x / 10.0)\n",
        "        ) / (0.5 + np.abs(np.cos(x)))"
      ],
      "execution_count": null,
      "outputs": []
    },
    {
      "cell_type": "markdown",
      "metadata": {
        "id": "Cx5vvoAwDhVQ"
      },
      "source": [
        "Let's simulate the train data"
      ]
    },
    {
      "cell_type": "code",
      "metadata": {
        "id": "8IeoimC8DhVQ"
      },
      "source": [
        "N_train = 10 ** 4  # number of training samples\n",
        "# Note: \"[:, np.newaxis]\" reshapes array to (N,1) as required by our DNN (we input one feature per sample)\n",
        "xtrain = np.random.uniform(-10, 10, N_train)[:, np.newaxis]\n",
        "ytrain = some_complicated_function(xtrain) + np.random.standard_normal(xtrain.shape)  # train data includes some noise"
      ],
      "execution_count": null,
      "outputs": []
    },
    {
      "cell_type": "code",
      "metadata": {
        "id": "mlI1OqbUDhVQ",
        "colab": {
          "base_uri": "https://localhost:8080/"
        },
        "outputId": "237b6db3-ed2c-4f1e-eaef-ed2f3e449f27"
      },
      "source": [
        "print(\"xtrain.shape\", xtrain.shape)\n",
        "print(\"ytrain.shape\", ytrain.shape)"
      ],
      "execution_count": null,
      "outputs": [
        {
          "output_type": "stream",
          "name": "stdout",
          "text": [
            "xtrain.shape (10000, 1)\n",
            "ytrain.shape (10000, 1)\n"
          ]
        }
      ]
    },
    {
      "cell_type": "markdown",
      "metadata": {
        "id": "kBU3EoJKDhVS"
      },
      "source": [
        "Simulate test data"
      ]
    },
    {
      "cell_type": "code",
      "metadata": {
        "id": "n0bQ_GpYDhVS"
      },
      "source": [
        "N_test = 10000  # number of testing samples\n",
        "xtest = np.linspace(-10, 10, N_test)\n",
        "ytest = some_complicated_function(xtest)"
      ],
      "execution_count": null,
      "outputs": []
    },
    {
      "cell_type": "code",
      "metadata": {
        "id": "SEsr1VNzDhVT",
        "colab": {
          "base_uri": "https://localhost:8080/"
        },
        "outputId": "6da832b9-2bc1-41b8-f38d-eb822ac3bd94"
      },
      "source": [
        "print(\"xtest.shape\", xtest.shape)\n",
        "print(\"ytest.shape\", ytest.shape)"
      ],
      "execution_count": null,
      "outputs": [
        {
          "output_type": "stream",
          "name": "stdout",
          "text": [
            "xtest.shape (10000,)\n",
            "ytest.shape (10000,)\n"
          ]
        }
      ]
    },
    {
      "cell_type": "markdown",
      "metadata": {
        "id": "vRRRNdKpDhVU"
      },
      "source": [
        "### Define Model\n",
        "\n",
        "Define the number of nodes, the number of layers, and choose an activation function.\n",
        "Use `keras.regularizers` to use parameter norm penalties or add a dropout layer via `layers.Dropout(fraction)`.\n",
        "\n",
        "You may use the skeleton below:"
      ]
    },
    {
      "cell_type": "code",
      "metadata": {
        "id": "2v7d4JHZDhVU",
        "colab": {
          "base_uri": "https://localhost:8080/"
        },
        "outputId": "3ad24594-2694-4819-f99c-a413bbe95620"
      },
      "source": [
        "nb_nodes = 100 \n",
        "nb_layers = 5\n",
        "activation = \"relu\"\n",
        "# we create 5 layers with 100 nodes each, and all of them are relu activated \n",
        "\n",
        "model = keras.models.Sequential(name=\"1Dfit\")\n",
        "for i in range(1, nb_layers):\n",
        "  model.add(layers.Dense(nb_nodes, activation=activation, input_dim=xtrain.shape[1]))  # first layer\n",
        "#forgot to add a regulariser !!! \n",
        "# or a dropout layer ... \n",
        "\n",
        "\n",
        "model.add(layers.Dense(1))  # final layer\n",
        "\n",
        "print(model.summary())"
      ],
      "execution_count": null,
      "outputs": [
        {
          "output_type": "stream",
          "name": "stdout",
          "text": [
            "Model: \"1Dfit\"\n",
            "_________________________________________________________________\n",
            " Layer (type)                Output Shape              Param #   \n",
            "=================================================================\n",
            " dense_4 (Dense)             (None, 100)               200       \n",
            "                                                                 \n",
            " dense_5 (Dense)             (None, 100)               10100     \n",
            "                                                                 \n",
            " dense_6 (Dense)             (None, 100)               10100     \n",
            "                                                                 \n",
            " dense_7 (Dense)             (None, 100)               10100     \n",
            "                                                                 \n",
            " dense_8 (Dense)             (None, 1)                 101       \n",
            "                                                                 \n",
            "=================================================================\n",
            "Total params: 30,601\n",
            "Trainable params: 30,601\n",
            "Non-trainable params: 0\n",
            "_________________________________________________________________\n",
            "None\n"
          ]
        }
      ]
    },
    {
      "cell_type": "markdown",
      "metadata": {
        "id": "6zJykTHgDhVU"
      },
      "source": [
        "### Compile the model (set an objective and choose an optimizer)"
      ]
    },
    {
      "cell_type": "markdown",
      "metadata": {
        "id": "V1XQ_aPSDhVV"
      },
      "source": [
        "Choose an optimizer from `keras.optimizers`, e.g., `adam = keras.optimizers.Adam(learning_rate=0.001)`.\n",
        "\n",
        "Further, choose the correct objective (loss) for this <b>regression task</b>."
      ]
    },
    {
      "cell_type": "code",
      "metadata": {
        "id": "0rI_dLv7DhVV"
      },
      "source": [
        "adam = keras.optimizers.Adam(learning_rate=0.001) \n",
        "\n",
        "# we use the adam optimzer according to the documentation: \n",
        "# Adam optimization is a stochastic gradient descent method that is based on adaptive estimation of first-order and second-order moments.\n",
        "# so basically some sort of gradient decent with learning rate 0.001\n",
        "\n",
        "model.compile(loss=\"MSE\", optimizer=adam)\n",
        "#we use the MSE: mean square error to calculate how far the predicted data is from the calculated data."
      ],
      "execution_count": null,
      "outputs": []
    },
    {
      "cell_type": "markdown",
      "metadata": {
        "id": "5Nnex8oJDhVV"
      },
      "source": [
        "### Train the model"
      ]
    },
    {
      "cell_type": "markdown",
      "metadata": {
        "id": "vWd6kKyCDhVV"
      },
      "source": [
        "Train the network for a couple of epochs and save the model several times in between."
      ]
    },
    {
      "cell_type": "code",
      "metadata": {
        "id": "hHhUTZLsDhVW",
        "colab": {
          "base_uri": "https://localhost:8080/"
        },
        "outputId": "5bd8c38d-7b4a-4f7c-ec56-282639c6d0df"
      },
      "source": [
        "epochs = 100 # in the video, 100 epochs seemed good.... \n",
        "save_period = 20  # after how many epochs the model should be saved?\n",
        "\n",
        "chkpnt_saver = keras.callbacks.ModelCheckpoint(\"weights-{epoch:02d}.hdf5\", save_weights_only=True, save_freq=save_period)\n",
        "\n",
        "results = model.fit(\n",
        "    xtrain,\n",
        "    ytrain,\n",
        "    batch_size=64,\n",
        "    epochs=epochs,\n",
        "    verbose=1,\n",
        "    callbacks=[chkpnt_saver]\n",
        "    )"
      ],
      "execution_count": null,
      "outputs": [
        {
          "output_type": "stream",
          "name": "stdout",
          "text": [
            "Epoch 1/100\n",
            "157/157 [==============================] - 4s 4ms/step - loss: 4.6334\n",
            "Epoch 2/100\n",
            "157/157 [==============================] - 0s 3ms/step - loss: 3.4765\n",
            "Epoch 3/100\n",
            "157/157 [==============================] - 1s 3ms/step - loss: 3.0779\n",
            "Epoch 4/100\n",
            "157/157 [==============================] - 0s 3ms/step - loss: 2.8199\n",
            "Epoch 5/100\n",
            "157/157 [==============================] - 0s 3ms/step - loss: 2.6554\n",
            "Epoch 6/100\n",
            "157/157 [==============================] - 0s 3ms/step - loss: 2.4929\n",
            "Epoch 7/100\n",
            "157/157 [==============================] - 0s 3ms/step - loss: 2.4674\n",
            "Epoch 8/100\n",
            "157/157 [==============================] - 0s 3ms/step - loss: 2.3319\n",
            "Epoch 9/100\n",
            "157/157 [==============================] - 0s 3ms/step - loss: 2.3037\n",
            "Epoch 10/100\n",
            "157/157 [==============================] - 0s 3ms/step - loss: 2.2468\n",
            "Epoch 11/100\n",
            "157/157 [==============================] - 0s 3ms/step - loss: 2.2297\n",
            "Epoch 12/100\n",
            "157/157 [==============================] - 0s 3ms/step - loss: 2.1568\n",
            "Epoch 13/100\n",
            "157/157 [==============================] - 0s 3ms/step - loss: 2.1092\n",
            "Epoch 14/100\n",
            "157/157 [==============================] - 0s 3ms/step - loss: 2.0445\n",
            "Epoch 15/100\n",
            "157/157 [==============================] - 1s 3ms/step - loss: 1.9717\n",
            "Epoch 16/100\n",
            "157/157 [==============================] - 1s 3ms/step - loss: 1.9276\n",
            "Epoch 17/100\n",
            "157/157 [==============================] - 0s 3ms/step - loss: 1.9015\n",
            "Epoch 18/100\n",
            "157/157 [==============================] - 0s 3ms/step - loss: 1.7251\n",
            "Epoch 19/100\n",
            "157/157 [==============================] - 0s 3ms/step - loss: 1.6039\n",
            "Epoch 20/100\n",
            "157/157 [==============================] - 0s 3ms/step - loss: 1.5398\n",
            "Epoch 21/100\n",
            "157/157 [==============================] - 0s 3ms/step - loss: 1.4840\n",
            "Epoch 22/100\n",
            "157/157 [==============================] - 1s 3ms/step - loss: 1.4481\n",
            "Epoch 23/100\n",
            "157/157 [==============================] - 0s 3ms/step - loss: 1.4941\n",
            "Epoch 24/100\n",
            "157/157 [==============================] - 1s 3ms/step - loss: 1.3616\n",
            "Epoch 25/100\n",
            "157/157 [==============================] - 1s 3ms/step - loss: 1.3690\n",
            "Epoch 26/100\n",
            "157/157 [==============================] - 1s 3ms/step - loss: 1.2675\n",
            "Epoch 27/100\n",
            "157/157 [==============================] - 0s 3ms/step - loss: 1.2949\n",
            "Epoch 28/100\n",
            "157/157 [==============================] - 1s 3ms/step - loss: 1.2708\n",
            "Epoch 29/100\n",
            "157/157 [==============================] - 1s 3ms/step - loss: 1.2461\n",
            "Epoch 30/100\n",
            "157/157 [==============================] - 0s 3ms/step - loss: 1.2784\n",
            "Epoch 31/100\n",
            "157/157 [==============================] - 0s 3ms/step - loss: 1.2579\n",
            "Epoch 32/100\n",
            "157/157 [==============================] - 1s 3ms/step - loss: 1.2284\n",
            "Epoch 33/100\n",
            "157/157 [==============================] - 0s 3ms/step - loss: 1.2449\n",
            "Epoch 34/100\n",
            "157/157 [==============================] - 0s 3ms/step - loss: 1.2194\n",
            "Epoch 35/100\n",
            "157/157 [==============================] - 0s 3ms/step - loss: 1.2247\n",
            "Epoch 36/100\n",
            "157/157 [==============================] - 0s 3ms/step - loss: 1.1843\n",
            "Epoch 37/100\n",
            "157/157 [==============================] - 0s 3ms/step - loss: 1.2260\n",
            "Epoch 38/100\n",
            "157/157 [==============================] - 0s 3ms/step - loss: 1.2230\n",
            "Epoch 39/100\n",
            "157/157 [==============================] - 0s 3ms/step - loss: 1.2240\n",
            "Epoch 40/100\n",
            "157/157 [==============================] - 0s 3ms/step - loss: 1.2056\n",
            "Epoch 41/100\n",
            "157/157 [==============================] - 0s 3ms/step - loss: 1.1933\n",
            "Epoch 42/100\n",
            "157/157 [==============================] - 0s 3ms/step - loss: 1.2044\n",
            "Epoch 43/100\n",
            "157/157 [==============================] - 0s 3ms/step - loss: 1.1929\n",
            "Epoch 44/100\n",
            "157/157 [==============================] - 0s 3ms/step - loss: 1.2169\n",
            "Epoch 45/100\n",
            "157/157 [==============================] - 0s 3ms/step - loss: 1.1969\n",
            "Epoch 46/100\n",
            "157/157 [==============================] - 0s 3ms/step - loss: 1.2116\n",
            "Epoch 47/100\n",
            "157/157 [==============================] - 0s 3ms/step - loss: 1.3271\n",
            "Epoch 48/100\n",
            "157/157 [==============================] - 0s 3ms/step - loss: 1.2162\n",
            "Epoch 49/100\n",
            "157/157 [==============================] - 0s 3ms/step - loss: 1.1697\n",
            "Epoch 50/100\n",
            "157/157 [==============================] - 0s 3ms/step - loss: 1.1612\n",
            "Epoch 51/100\n",
            "157/157 [==============================] - 1s 3ms/step - loss: 1.1676\n",
            "Epoch 52/100\n",
            "157/157 [==============================] - 0s 3ms/step - loss: 1.1637\n",
            "Epoch 53/100\n",
            "157/157 [==============================] - 0s 3ms/step - loss: 1.1800\n",
            "Epoch 54/100\n",
            "157/157 [==============================] - 0s 3ms/step - loss: 1.2029\n",
            "Epoch 55/100\n",
            "157/157 [==============================] - 0s 3ms/step - loss: 1.1506\n",
            "Epoch 56/100\n",
            "157/157 [==============================] - 0s 3ms/step - loss: 1.1639\n",
            "Epoch 57/100\n",
            "157/157 [==============================] - 0s 3ms/step - loss: 1.1587\n",
            "Epoch 58/100\n",
            "157/157 [==============================] - 0s 3ms/step - loss: 1.1596\n",
            "Epoch 59/100\n",
            "157/157 [==============================] - 1s 3ms/step - loss: 1.2438\n",
            "Epoch 60/100\n",
            "157/157 [==============================] - 0s 3ms/step - loss: 1.2269\n",
            "Epoch 61/100\n",
            "157/157 [==============================] - 0s 3ms/step - loss: 1.2122\n",
            "Epoch 62/100\n",
            "157/157 [==============================] - 0s 3ms/step - loss: 1.1641\n",
            "Epoch 63/100\n",
            "157/157 [==============================] - 0s 3ms/step - loss: 1.2159\n",
            "Epoch 64/100\n",
            "157/157 [==============================] - 0s 3ms/step - loss: 1.1937\n",
            "Epoch 65/100\n",
            "157/157 [==============================] - 0s 3ms/step - loss: 1.2554\n",
            "Epoch 66/100\n",
            "157/157 [==============================] - 0s 3ms/step - loss: 1.1579\n",
            "Epoch 67/100\n",
            "157/157 [==============================] - 0s 3ms/step - loss: 1.1694\n",
            "Epoch 68/100\n",
            "157/157 [==============================] - 0s 3ms/step - loss: 1.1516\n",
            "Epoch 69/100\n",
            "157/157 [==============================] - 0s 3ms/step - loss: 1.1465\n",
            "Epoch 70/100\n",
            "157/157 [==============================] - 0s 3ms/step - loss: 1.1749\n",
            "Epoch 71/100\n",
            "157/157 [==============================] - 1s 3ms/step - loss: 1.1840\n",
            "Epoch 72/100\n",
            "157/157 [==============================] - 0s 3ms/step - loss: 1.1545\n",
            "Epoch 73/100\n",
            "157/157 [==============================] - 0s 3ms/step - loss: 1.1463\n",
            "Epoch 74/100\n",
            "157/157 [==============================] - 0s 3ms/step - loss: 1.1537\n",
            "Epoch 75/100\n",
            "157/157 [==============================] - 0s 3ms/step - loss: 1.1520\n",
            "Epoch 76/100\n",
            "157/157 [==============================] - 1s 3ms/step - loss: 1.1390\n",
            "Epoch 77/100\n",
            "157/157 [==============================] - 1s 3ms/step - loss: 1.1736\n",
            "Epoch 78/100\n",
            "157/157 [==============================] - 0s 3ms/step - loss: 1.1634\n",
            "Epoch 79/100\n",
            "157/157 [==============================] - 0s 3ms/step - loss: 1.2115\n",
            "Epoch 80/100\n",
            "157/157 [==============================] - 0s 3ms/step - loss: 1.1218\n",
            "Epoch 81/100\n",
            "157/157 [==============================] - 0s 3ms/step - loss: 1.1351\n",
            "Epoch 82/100\n",
            "157/157 [==============================] - 1s 3ms/step - loss: 1.1375\n",
            "Epoch 83/100\n",
            "157/157 [==============================] - 0s 3ms/step - loss: 1.1715\n",
            "Epoch 84/100\n",
            "157/157 [==============================] - 1s 3ms/step - loss: 1.1587\n",
            "Epoch 85/100\n",
            "157/157 [==============================] - 0s 3ms/step - loss: 1.1344\n",
            "Epoch 86/100\n",
            "157/157 [==============================] - 1s 3ms/step - loss: 1.1416\n",
            "Epoch 87/100\n",
            "157/157 [==============================] - 0s 3ms/step - loss: 1.1911\n",
            "Epoch 88/100\n",
            "157/157 [==============================] - 1s 3ms/step - loss: 1.1313\n",
            "Epoch 89/100\n",
            "157/157 [==============================] - 0s 3ms/step - loss: 1.1375\n",
            "Epoch 90/100\n",
            "157/157 [==============================] - 1s 3ms/step - loss: 1.1295\n",
            "Epoch 91/100\n",
            "157/157 [==============================] - 0s 3ms/step - loss: 1.1577\n",
            "Epoch 92/100\n",
            "157/157 [==============================] - 0s 3ms/step - loss: 1.1458\n",
            "Epoch 93/100\n",
            "157/157 [==============================] - 0s 3ms/step - loss: 1.1478\n",
            "Epoch 94/100\n",
            "157/157 [==============================] - 0s 3ms/step - loss: 1.1375\n",
            "Epoch 95/100\n",
            "157/157 [==============================] - 1s 3ms/step - loss: 1.1283\n",
            "Epoch 96/100\n",
            "157/157 [==============================] - 1s 3ms/step - loss: 1.1178\n",
            "Epoch 97/100\n",
            "157/157 [==============================] - 0s 3ms/step - loss: 1.1335\n",
            "Epoch 98/100\n",
            "157/157 [==============================] - 1s 3ms/step - loss: 1.1260\n",
            "Epoch 99/100\n",
            "157/157 [==============================] - 0s 3ms/step - loss: 1.1730\n",
            "Epoch 100/100\n",
            "157/157 [==============================] - 0s 3ms/step - loss: 1.1548\n"
          ]
        }
      ]
    },
    {
      "cell_type": "markdown",
      "metadata": {
        "id": "ON4FWth1DhVW"
      },
      "source": [
        "Compare the performance of the model during the training. You may use the skeleton below:"
      ]
    },
    {
      "cell_type": "code",
      "metadata": {
        "id": "gT0EPJ0BDhVW",
        "colab": {
          "base_uri": "https://localhost:8080/",
          "height": 497
        },
        "outputId": "d71db421-d873-4242-eedd-d2d1f7fa2146"
      },
      "source": [
        "fig, (ax1, ax2) = plt.subplots(nrows=2, figsize=(12, 8))\n",
        "\n",
        "ax1.plot(xtest, ytest, color=\"black\", label=\"data\")\n",
        "saved_epochs = range(save_period, epochs + 1, save_period)\n",
        "\n",
        "colors = [plt.cm.jet((i + 1) / float(len(saved_epochs) + 1)) for i in range(len(saved_epochs))]\n",
        "\n",
        "for i, epoch in enumerate(saved_epochs):\n",
        "    model.load_weights(\"weights-{epoch:02d}.hdf5\".format(epoch=epoch))\n",
        "    ypredict = model.predict(xtest).squeeze()\n",
        "    ax1.plot(xtest.squeeze(), ypredict, color=colors[i], label=epoch)\n",
        "    ax2.plot(epoch, results.history[\"loss\"][epoch - 1], color=colors[i], marker=\"o\")\n",
        "\n",
        "ax1.set(xlabel=\"x\", ylabel=\"some_complicated_function(x)\", xlim=(-10, 13), title=\"\")\n",
        "ax1.grid(True)\n",
        "ax1.legend(loc=\"upper right\", title=\"Epochs\")\n",
        "\n",
        "ax2.plot(results.history[\"loss\"], color=\"black\")\n",
        "ax2.set(xlabel=\"epoch\", ylabel=\"loss\")\n",
        "ax2.grid(True)\n",
        "ax2.semilogy()\n",
        "\n",
        "plt.show()"
      ],
      "execution_count": null,
      "outputs": [
        {
          "output_type": "display_data",
          "data": {
            "text/plain": [
              "<Figure size 864x576 with 2 Axes>"
            ],
            "image/png": "[encoded data removed]"
          },
          "metadata": {
            "needs_background": "light"
          }
        }
      ]
    }
  ]
}